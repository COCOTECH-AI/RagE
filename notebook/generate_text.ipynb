{
 "cells": [
  {
   "cell_type": "code",
   "execution_count": 1,
   "metadata": {},
   "outputs": [
    {
     "name": "stderr",
     "output_type": "stream",
     "text": [
      "c:\\Users\\Admin\\anaconda3\\envs\\llm\\lib\\site-packages\\tqdm\\auto.py:21: TqdmWarning: IProgress not found. Please update jupyter and ipywidgets. See https://ipywidgets.readthedocs.io/en/stable/user_install.html\n",
      "  from .autonotebook import tqdm as notebook_tqdm\n"
     ]
    },
    {
     "name": "stdout",
     "output_type": "stream",
     "text": [
      "bin C:\\Users\\Admin\\AppData\\Roaming\\Python\\Python310\\site-packages\\bitsandbytes\\libbitsandbytes_cuda118.dll\n"
     ]
    }
   ],
   "source": [
    "import torch \n",
    "from rag_chatbot import GenAnsModelCasualLM"
   ]
  },
  {
   "cell_type": "code",
   "execution_count": 2,
   "metadata": {},
   "outputs": [],
   "source": [
    "device= torch.device('cuda')"
   ]
  },
  {
   "cell_type": "code",
   "execution_count": 3,
   "metadata": {},
   "outputs": [
    {
     "name": "stderr",
     "output_type": "stream",
     "text": [
      "Some weights of BloomForCausalLM were not initialized from the model checkpoint at bigscience/bloomz-1b1 and are newly initialized: ['lm_head.weight']\n",
      "You should probably TRAIN this model on a down-stream task to be able to use it for predictions and inference.\n"
     ]
    }
   ],
   "source": [
    "model= GenAnsModelCasualLM('bigscience/bloomz-1b1', device= device, lora_r= 16, lora_alpha= 32, \n",
    "                           lora_dropout= 0.05, target_modules= [\"query_key_value\", \"lm_head\"], )"
   ]
  },
  {
   "cell_type": "code",
   "execution_count": 4,
   "metadata": {},
   "outputs": [],
   "source": [
    "model.prepare_inference(ckpt_dir= '../build/weight/generation_answer/best_qa.pt', merge_lora= True, torch_compile= False)"
   ]
  },
  {
   "cell_type": "code",
   "execution_count": 13,
   "metadata": {},
   "outputs": [],
   "source": [
    "ctx= \"\"\"Nội quy học đường:\n",
    "1. Sinh viên khi đến Trường phải đeo “Thẻ sinh viên”, sinh viên không đeo thẻ không được vào Trường, lớp học, giảng đường.\n",
    "2. Trang phục gọn gàng, lịch sự.\n",
    "3. Sinh viên ra, vào lớp phải đúng giờ quy định. Chỉ những sinh viên có tên trong danh sách lớp, môn học mới được tham dự lớp học.\n",
    "4. Khi Giảng viên vào lớp sinh viên phải đứng dậy chào. Trong lớp phải nghiêm túc trật tự nghe giảng. Giúp đỡ đối xử hòa nhã với bạn bè. Không có hành vi, lời nói vô lễ với cán bộ, giảng viên, nhân viên Nhà trường. Không viết và nói những điều sai sự thật làm ảnh hưởng đến uy tín Nhà trường. Không gây rối làm ảnh hưởng tới công tác giảng dạy của giảng viên, các hoạt động của Nhà trường.\n",
    "5. Không sử dụng điện thoại, không chơi Game trong lớp học và phòng thi. Không chơi bài bạc dưới mọi hình thức.\n",
    "6. Không có những hành vi thiếu văn hóa như nói tục, cãi nhau, làm ồn ào mất trật tự ở nơi đông người như ở hội trường, lớp học, giảng đường, thư viện, căng tin…Nghiêm cấm không mang bất kỳ vật dụng nào có thể làm hung khí đánh nhau vào Trường.\n",
    "7. Hết giờ học trước khi ra khỏi lớp, sinh viên phải tự giác kê lại bàn ghế ngay ngắn, đúng vị trí, tắt đèn, tắt quạt, đóng cửa…\n",
    "8. Không dùng bút, vật sắc nhọn để viết, vẽ, rạch lên bàn ghế, bảng, tường, rèm cửa trong phòng học, giảng đường, hội trường, thư viện, căng tin, khu vệ sinh… làm hư hỏng tài sản của Nhà trường. Không chạy nhảy hoặc ngồi lên bàn; không đạp chân lên tường và lan can, hành lang lớp học. Không tự động di chuyển bàn ghế từ phòng này sang phòng khác.\n",
    "9. Phải có trách nhiệm bảo vệ môi trường cảnh quan, cây xanh, chậu cảnh trong khuôn viên Nhà trường. Phải giữ gìn vệ sinh chung; không vứt rác làm mất vệ sinh trong khuôn viên Trường.\n",
    "10. Không hút thuốc lá, ăn kẹo cao su, ăn quà bánh, cơm, cà phê…trong phòng học, giảng đường, hội trường, thư viện.\n",
    "Nếu vi phạm các quy định trên đây tùy theo mức độ sinh viên sẽ phải bồi thường thiệt hại hoặc chịu các hình thức kỷ luật từ khiển trách đến buộc thôi học.\"\"\"\n",
    "\n",
    "PRECISE_PROMPT= \"### Instruction: You are an AI assistant. Provide a detailed answer so user don’t need to search outside to understand the answer.\\\n",
    "\\n### Task:\\nContext: {context}\\nGiven the paragraph above, Please answer the following question: {question}\\nAnswer: \"\n",
    "\n",
    "config_gen= {'max_new_tokens': 500,\n",
    "            'top_k': 40, \n",
    "            'top_p': 0.75, \n",
    "            'temperature': 0.7,\n",
    "             'do_sample': True}"
   ]
  },
  {
   "cell_type": "code",
   "execution_count": 14,
   "metadata": {},
   "outputs": [
    {
     "data": {
      "text/plain": [
       "'Answer:  Sinh viên không được hút thuốc lá trong trường.'"
      ]
     },
     "execution_count": 14,
     "metadata": {},
     "output_type": "execute_result"
    }
   ],
   "source": [
    "model.gen([PRECISE_PROMPT.format(question= 'sinh viên có được hút thuốc lá trong trường không', context= ctx)], config_gen= config_gen).split('\\n')[-1]"
   ]
  },
  {
   "cell_type": "code",
   "execution_count": 7,
   "metadata": {},
   "outputs": [],
   "source": [
    "torch.cuda.empty_cache()"
   ]
  }
 ],
 "metadata": {
  "kernelspec": {
   "display_name": "llm",
   "language": "python",
   "name": "python3"
  },
  "language_info": {
   "codemirror_mode": {
    "name": "ipython",
    "version": 3
   },
   "file_extension": ".py",
   "mimetype": "text/x-python",
   "name": "python",
   "nbconvert_exporter": "python",
   "pygments_lexer": "ipython3",
   "version": "3.10.12"
  }
 },
 "nbformat": 4,
 "nbformat_minor": 2
}
